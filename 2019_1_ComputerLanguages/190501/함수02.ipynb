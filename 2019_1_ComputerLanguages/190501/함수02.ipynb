{
 "cells": [
  {
   "cell_type": "code",
   "execution_count": 2,
   "metadata": {},
   "outputs": [
    {
     "name": "stdout",
     "output_type": "stream",
     "text": [
      "28.26\n",
      "7.065\n"
     ]
    }
   ],
   "source": [
    "def circle_area(radius) :\n",
    "    area = radius **2 *3.14\n",
    "    return area\n",
    "\n",
    "def sector_area(radius, angle):\n",
    "    area = circle_area(radius) * angle /360\n",
    "    return area\n",
    "\n",
    "print(circle_area(3))\n",
    "print(sector_area(3,90))"
   ]
  },
  {
   "cell_type": "code",
   "execution_count": 18,
   "metadata": {},
   "outputs": [
    {
     "name": "stdout",
     "output_type": "stream",
     "text": [
      "28.26\n",
      "7.065\n",
      "3.5325\n"
     ]
    }
   ],
   "source": [
    "def circle_area(radius,angle=360):\n",
    "    area = radius **2 *3.14 * angle/360\n",
    "    return area\n",
    "\n",
    "print(circle_area(3))\n",
    "print(circle_area(3,90))\n",
    "print(circle_area(angle=45, radius=3))\n"
   ]
  },
  {
   "cell_type": "code",
   "execution_count": 13,
   "metadata": {},
   "outputs": [
    {
     "name": "stdout",
     "output_type": "stream",
     "text": [
      "정수입력-5\n",
      "1\n"
     ]
    }
   ],
   "source": [
    "def factorial(n):\n",
    "    result=1\n",
    "    for i in range(n):\n",
    "        i+=1\n",
    "        result*= i\n",
    "    return result\n",
    "\n",
    "n = int(input(\"정수입력\"))\n",
    "print(factorial(n))\n"
   ]
  },
  {
   "cell_type": "code",
   "execution_count": 14,
   "metadata": {},
   "outputs": [
    {
     "name": "stdout",
     "output_type": "stream",
     "text": [
      "4\n",
      "27\n"
     ]
    }
   ],
   "source": [
    "def incr(a,step=1):\n",
    "    return a+step\n",
    "\n",
    "print(incr(3))\n",
    "print(incr(3,24))"
   ]
  },
  {
   "cell_type": "code",
   "execution_count": 21,
   "metadata": {},
   "outputs": [],
   "source": [
    "def login():\n",
    "    loginID = 'asdf'\n",
    "    loginPW = '1234'\n",
    "    for i in range(5):\n",
    "        i +=1\n",
    "        userID = input('아이디 입력:  ')\n",
    "        userPW = input('비밀번호 입력: ')\n",
    "        \n",
    "        if userID == loginID and userPW == loginPW :\n",
    "            print(f'환영합니다 {userID}님')\n",
    "            return True\n",
    "        else :\n",
    "            print(f'아이디나 비밀번호가 {i}회 틀렸습니다')\n",
    "    else:\n",
    "        print('로그인 실패')\n",
    "        return False"
   ]
  },
  {
   "cell_type": "code",
   "execution_count": 22,
   "metadata": {},
   "outputs": [
    {
     "name": "stdout",
     "output_type": "stream",
     "text": [
      "아이디 입력:  asdf\n",
      "비밀번호 입력: 1234\n",
      "환영합니다 asdf님\n",
      "True\n"
     ]
    }
   ],
   "source": [
    "if login() :\n",
    "    print('True')\n",
    "else:\n",
    "    print('Flase')"
   ]
  },
  {
   "cell_type": "code",
   "execution_count": null,
   "metadata": {},
   "outputs": [],
   "source": []
  }
 ],
 "metadata": {
  "kernelspec": {
   "display_name": "Python 3",
   "language": "python",
   "name": "python3"
  },
  "language_info": {
   "codemirror_mode": {
    "name": "ipython",
    "version": 3
   },
   "file_extension": ".py",
   "mimetype": "text/x-python",
   "name": "python",
   "nbconvert_exporter": "python",
   "pygments_lexer": "ipython3",
   "version": "3.7.1"
  }
 },
 "nbformat": 4,
 "nbformat_minor": 2
}
