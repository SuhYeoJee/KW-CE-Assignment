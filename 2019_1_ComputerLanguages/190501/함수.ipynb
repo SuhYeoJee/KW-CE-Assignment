{
 "cells": [
  {
   "cell_type": "code",
   "execution_count": 3,
   "metadata": {},
   "outputs": [
    {
     "name": "stdout",
     "output_type": "stream",
     "text": [
      "3\n",
      "28.274328\n"
     ]
    }
   ],
   "source": [
    "def circle_area(r):\n",
    "    pi=3.141592\n",
    "    area = r**2*pi\n",
    "    return area\n",
    "\n",
    "r=int(input())\n",
    "area = circle_area(r)\n",
    "print(area)"
   ]
  },
  {
   "cell_type": "code",
   "execution_count": 7,
   "metadata": {},
   "outputs": [
    {
     "name": "stdout",
     "output_type": "stream",
     "text": [
      "2\n"
     ]
    }
   ],
   "source": [
    "def min (a,b):\n",
    "    if a>b:\n",
    "        return b\n",
    "    else:\n",
    "        return a\n",
    "\n",
    "def max (a,b):\n",
    "    if a>b:\n",
    "        return a\n",
    "    else:\n",
    "        return b\n",
    "    \n",
    "    \n",
    "result = min(5,2)\n",
    "print(result)"
   ]
  },
  {
   "cell_type": "code",
   "execution_count": 10,
   "metadata": {},
   "outputs": [],
   "source": [
    "def polygon(side,n):\n",
    "    if n <= 2:\n",
    "        printf(\"3이상의 수를 입력\")\n",
    "    else:\n",
    "        angle = 360/n\n",
    "        for i in range(n):\n",
    "            forward(100)\n",
    "            left(angle)\n",
    "\n",
    "from turtle import *\n",
    "polygon(100,7)\n"
   ]
  },
  {
   "cell_type": "code",
   "execution_count": null,
   "metadata": {},
   "outputs": [],
   "source": []
  }
 ],
 "metadata": {
  "kernelspec": {
   "display_name": "Python 3",
   "language": "python",
   "name": "python3"
  },
  "language_info": {
   "codemirror_mode": {
    "name": "ipython",
    "version": 3
   },
   "file_extension": ".py",
   "mimetype": "text/x-python",
   "name": "python",
   "nbconvert_exporter": "python",
   "pygments_lexer": "ipython3",
   "version": "3.7.1"
  }
 },
 "nbformat": 4,
 "nbformat_minor": 2
}
