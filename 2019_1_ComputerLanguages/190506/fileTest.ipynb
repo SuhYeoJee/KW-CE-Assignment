{
 "cells": [
  {
   "cell_type": "code",
   "execution_count": 4,
   "metadata": {},
   "outputs": [
    {
     "name": "stdout",
     "output_type": "stream",
     "text": [
      "홍길동 010-1234-5678\n",
      "김철수 010-2345-6789\n",
      "이영희 010-3456-7890"
     ]
    }
   ],
   "source": [
    "infile = open('phone.txt', 'r')\n",
    "line = infile.readline()\n",
    "while line != '' :\n",
    "    print(line, end='')\n",
    "    line = infile.readline()\n",
    "infile.close()"
   ]
  },
  {
   "cell_type": "code",
   "execution_count": 6,
   "metadata": {},
   "outputs": [
    {
     "name": "stdout",
     "output_type": "stream",
     "text": [
      "홍길동 010-1234-5678\n",
      "김철수 010-2345-6789\n",
      "이영희 010-3456-7890\n"
     ]
    }
   ],
   "source": [
    "f = open('phone.txt', 'r')\n",
    "for line in f :\n",
    "    line = line.rstrip()\n",
    "    print(line)\n",
    "f.close()"
   ]
  },
  {
   "cell_type": "code",
   "execution_count": 8,
   "metadata": {
    "collapsed": true
   },
   "outputs": [],
   "source": [
    "outfile = open('phones.txt', 'w')\n",
    "\n",
    "outfile.write ('홍길동 010-1234-5678\\n')\n",
    "outfile.write ('김철수 010-2345-6789\\n')\n",
    "outfile.write ('이영희 010-3456-7890\\n')\n",
    "\n",
    "outfile.close()"
   ]
  },
  {
   "cell_type": "code",
   "execution_count": 9,
   "metadata": {},
   "outputs": [
    {
     "name": "stdout",
     "output_type": "stream",
     "text": [
      "동일한 이름의 파일이 존재합니다\n"
     ]
    }
   ],
   "source": [
    "import os.path\n",
    "\n",
    "if os.path.isfile('phones.txt'):\n",
    "    print('동일한 이름의 파일이 존재합니다')\n",
    "else :\n",
    "    outfile = open('phones.txt', 'w')\n",
    "    outfile.write('홍길동 010-1234-5678')\n",
    "    outfile.write('김철수 010-2345-6789')\n",
    "    outfile.write('이영희 010-3456-7890')\n",
    "outfile.close()\n"
   ]
  },
  {
   "cell_type": "code",
   "execution_count": 15,
   "metadata": {},
   "outputs": [
    {
     "name": "stdout",
     "output_type": "stream",
     "text": [
      "파이썬 좋아요\n"
     ]
    }
   ],
   "source": [
    "with open('t1.txt', 'w') as f :\n",
    "    f.write('파이썬 좋아요')\n",
    "    \n",
    "with open('t1.txt', 'r') as f :\n",
    "    print(f.read())"
   ]
  },
  {
   "cell_type": "code",
   "execution_count": 10,
   "metadata": {},
   "outputs": [
    {
     "name": "stdout",
     "output_type": "stream",
     "text": [
      "매출 입력 파일 이름 : sales.txt\n",
      "매출 출력 파일 이름 : summary.txt\n"
     ]
    }
   ],
   "source": [
    "# 매출 파일 처리\n",
    "infilename = input('매출 입력 파일 이름 : ')\n",
    "outfilename = input('매출 출력 파일 이름 : ')\n",
    "\n",
    "# 입출력 파일 열기\n",
    "infile = open(infilename, 'r')\n",
    "outfile = open(outfilename, 'w')\n",
    "\n",
    "# 변수 설정\n",
    "sum = 0\n",
    "count = 0\n",
    "\n",
    "# 입력 파일에서 한 줄씩 읽어서 합계 계산\n",
    "for line in infile :\n",
    "    dailySale = int(line)\n",
    "    sum += dailySale\n",
    "    count += 1\n",
    "    \n",
    "# 총 매출과 일평균 출력\n",
    "outfile.write('총매출 = ' + str(sum) + '\\n')\n",
    "outfile.write('평균 일매출 = ' + str(sum/count))\n",
    "\n",
    "infile.close()\n",
    "outfile.close()"
   ]
  },
  {
   "cell_type": "code",
   "execution_count": 2,
   "metadata": {},
   "outputs": [
    {
     "name": "stdout",
     "output_type": "stream",
     "text": [
      "원본 파일 이름을 입력하시오 : rabbit.png\n",
      "복사 파일 이름을 입력하시오 : rabbit2.png\n",
      "rabbit.png를 rabbit2.png로 복사하였습니다.\n"
     ]
    }
   ],
   "source": [
    "# 파일 명 입력 받기\n",
    "sourceName = input(\"원본 파일 이름을 입력하시오 : \")\n",
    "destName = input('복사 파일 이름을 입력하시오 : ')\n",
    "\n",
    "# 파일 열기\n",
    "infile = open(sourceName, 'rb')\n",
    "outfile = open(destName, 'wb')\n",
    "\n",
    "# 입력  파일에서 1024 바이트씩 읽어서 출력  파일에 쓴다\n",
    "while True : \n",
    "    buffer = infile.read(1024)\n",
    "  \n",
    "    if not buffer : \n",
    "        break\n",
    "    outfile.write(buffer)\n",
    "    \n",
    "# 파일 닫기\n",
    "infile.close()\n",
    "outfile.close()\n",
    "\n",
    "print(sourceName + '를 ' + destName + '로 복사하였습니다.')"
   ]
  },
  {
   "cell_type": "code",
   "execution_count": 1,
   "metadata": {},
   "outputs": [
    {
     "name": "stdout",
     "output_type": "stream",
     "text": [
      "{'윤소정': '010-1234-5678', '김철수': '010-2345-6789', '이영희': '010-3456-7890'}\n"
     ]
    }
   ],
   "source": [
    "import pickle\n",
    "f = open('test.pickle', 'wb')\n",
    "phone = {'윤소정':'010-1234-5678', '김철수':'010-2345-6789', \n",
    "         '이영희':'010-3456-7890'}\n",
    "\n",
    "pickle.dump(phone, f)\n",
    "f.close()\n",
    "del phone\n",
    "\n",
    "f = open('test.pickle', 'rb')\n",
    "phone = pickle.load(f)\n",
    "\n",
    "print(phone)"
   ]
  },
  {
   "cell_type": "code",
   "execution_count": 1,
   "metadata": {},
   "outputs": [
    {
     "name": "stdout",
     "output_type": "stream",
     "text": [
      "hi\n"
     ]
    }
   ],
   "source": [
    "import pickle\n",
    "f = open('test.pickle', 'wb')\n",
    "phone = {'윤소정':'010-1234-5678', '김철수':'010-2345-6789', \n",
    "         '이영희':'010-3456-7890'}\n",
    "L = ['string', 1234, 0.3456]\n",
    "T = (phone, L)\n",
    "\n",
    "pickle.dump(T, f)\n",
    "pickle.dump(L, f)\n",
    "\n",
    "f.close()\n",
    "f = open('test.pickle', 'rb')\n",
    "x, y = pickle.load(f)\n",
    "L2 = pickle.load(f)\n",
    "\n",
    "print('x = ' , x)\n",
    "print('y = ', y)\n",
    "print('L2 = ', L2)"
   ]
  },
  {
   "cell_type": "code",
   "execution_count": null,
   "metadata": {},
   "outputs": [
    {
     "name": "stdout",
     "output_type": "stream",
     "text": [
      "정수를 입력하세요 : ㅣ나ㅓ리\n",
      "정수가 아닙니다. 다시 입력하세요\n",
      "\n",
      "정수를 입력하세요 : 5\n",
      "정수 입력이 성공하였습니다\n"
     ]
    }
   ],
   "source": [
    "while True : \n",
    "    try :\n",
    "        n = int(input('정수를 입력하세요 : '))\n",
    "        break\n",
    "    except ValueError : \n",
    "        print('정수가 아닙니다. 다시 입력하세요\\n')\n",
    "        \n",
    "print('정수 입력이 성공하였습니다')"
   ]
  },
  {
   "cell_type": "code",
   "execution_count": 2,
   "metadata": {},
   "outputs": [
    {
     "name": "stdout",
     "output_type": "stream",
     "text": [
      "정수 : 0\n",
      "0으로 나눌 수 없습니다\n"
     ]
    }
   ],
   "source": [
    "sum = 30\n",
    "try :\n",
    "    n = int(input('정수 : '))\n",
    "    average = sum / n\n",
    "except ValueError :\n",
    "    print('정수를 입력해주세요')\n",
    "except ZeroDivisionError :\n",
    "    print('0으로 나눌 수 없습니다')\n",
    "except  :\n",
    "    print('오류가 발생하였습니다. 입력값을 확인해 주세요\\n')"
   ]
  },
  {
   "cell_type": "code",
   "execution_count": 6,
   "metadata": {},
   "outputs": [
    {
     "name": "stdout",
     "output_type": "stream",
     "text": [
      "파일 오류 :  [Errno 2] No such file or directory: 'test.txt'\n"
     ]
    }
   ],
   "source": [
    "try :\n",
    "    f = open('test.txt', 'r')\n",
    "    f.write('데이터를 파일에 씁니다')\n",
    "    # 기타 필요한 파일 연산을 수행합니다\n",
    "except IOError as err :\n",
    "    print('파일 오류 : ', str(err))\n",
    "else :\n",
    "    f.close()"
   ]
  },
  {
   "cell_type": "code",
   "execution_count": null,
   "metadata": {
    "collapsed": true
   },
   "outputs": [],
   "source": []
  }
 ],
 "metadata": {
  "kernelspec": {
   "display_name": "Python 3",
   "language": "python",
   "name": "python3"
  },
  "language_info": {
   "codemirror_mode": {
    "name": "ipython",
    "version": 3
   },
   "file_extension": ".py",
   "mimetype": "text/x-python",
   "name": "python",
   "nbconvert_exporter": "python",
   "pygments_lexer": "ipython3",
   "version": "3.6.4"
  }
 },
 "nbformat": 4,
 "nbformat_minor": 1
}
