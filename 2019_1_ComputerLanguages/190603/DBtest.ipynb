{
 "cells": [
  {
   "cell_type": "code",
   "execution_count": 5,
   "metadata": {},
   "outputs": [
    {
     "name": "stdout",
     "output_type": "stream",
     "text": [
      "[(7.0, 6.0, 7.5, 3.5, 8.0, 8.0, 7.0), (5.0, 5.0, 7.0, 3.0, 0.0, 0.0, 7.0), (6.0, 6.0, 10.0, 2.5, 5.0, 9.0, 8.5), (5.0, 2.0, 6.5, 2.5, 0.0, 0.0, 0.0), (7.0, 6.0, 9.5, 3.5, 9.0, 10.0, 9.0), (7.0, 6.0, 8.5, 3.0, 6.0, 3.0, 8.0), (5.0, 5.0, 9.0, 0.0, 3.5, 6.0, 8.0), (5.0, 6.0, 8.5, 3.0, 3.0, 7.0, 8.5), (6.0, 6.0, 10.0, 4.0, 8.0, 10.0, 9.0), (5.5, 4.0, 4.0, 2.0, 8.0, 4.5, 5.5), (5.0, 5.0, 7.5, 2.5, 7.0, 6.5, 9.0), (6.5, 6.0, 9.0, 3.0, 4.0, 3.5, 5.0), (6.0, 6.0, 9.0, 4.0, 7.0, 8.5, 8.5), (4.5, 6.0, 10.0, 3.5, 3.5, 9.0, 8.0), (5.5, 4.0, 7.5, 2.0, 0.0, 5.0, 0.0), (6.0, 5.0, 9.0, 3.5, 4.0, 6.5, 6.5), (4.5, 4.0, 6.5, 2.5, 5.0, 2.0, 0.0), (5.0, 1.0, 3.0, 1.5, 4.0, 2.5, 7.0), (6.0, 6.0, 11.0, 2.0, 8.0, 6.0, 9.0), (6.0, 6.0, 8.0, 1.5, 6.0, 3.5, 0.0), (6.5, 6.0, 11.0, 4.0, 8.0, 9.0, 7.5), (4.5, 5.0, 8.0, 3.0, 4.5, 5.5, 6.5), (5.0, 6.0, 9.5, 2.5, 7.0, 0.0, 8.0), (6.0, 6.0, 11.0, 3.5, 4.0, 7.5, 9.0), (6.0, 6.0, 11.0, 4.0, 9.0, 9.5, 9.0), (6.0, 6.0, 9.0, 4.0, 5.0, 4.5, 6.0), (6.0, 6.0, 8.5, 2.5, 5.0, 9.5, 8.5), (5.5, 5.0, 7.0, 3.5, 2.5, 10.0, 7.5), (7.0, 3.0, 7.0, 2.0, 4.0, 7.5, 6.0), (7.0, 5.0, 8.5, 4.0, 7.0, 5.5, 8.0), (4.0, 3.5, 7.5, 2.5, 3.5, 4.0, 3.0), (6.0, 5.0, 7.5, 3.5, 3.5, 7.0, 9.0), (6.5, 6.0, 11.0, 3.5, 8.0, 8.5, 7.0), (2.5, 0.0, 4.0, 0.0, 0.0, 1.5, 0.0), (6.0, 5.0, 8.0, 3.5, 0.0, 6.0, 6.0), (6.0, 5.0, 9.5, 2.5, 7.0, 4.0, 7.0), (5.0, 5.0, 8.0, 3.5, 5.0, 7.0, 7.5), (4.0, 6.0, 7.0, 3.0, 6.0, 8.5, 8.0), (7.0, 4.0, 6.0, 0.0, 9.0, 9.5, 7.5), (7.0, 6.0, 9.0, 3.5, 4.0, 10.0, 0.0), (6.0, 6.0, 11.0, 2.5, 8.0, 9.5, 6.5), (0.0, 6.0, 7.0, 2.5, 8.0, 0.0, 8.0)]\n"
     ]
    }
   ],
   "source": [
    "import sqlite3                  # sqlite3 라이브러리 import \n",
    "\n",
    "conn = sqlite3.connect('friend.db')  # 데이터베이스와 연결\n",
    "cursor = conn.cursor()             # 커서 객체 생성\n",
    "\n",
    "cursor.execute('select * from score')  # SQL 문 실행\n",
    "res = cursor.fetchall()                # 결과 가져오기\n",
    "print(res)\n",
    "# conn.commit()                    # 데이터 저장\n",
    "#conn.close()                       # 연결객체 닫기\n"
   ]
  },
  {
   "cell_type": "code",
   "execution_count": 4,
   "metadata": {},
   "outputs": [
    {
     "name": "stdout",
     "output_type": "stream",
     "text": [
      "<sqlite3.Cursor object at 0x00000260AFF3B490>\n"
     ]
    }
   ],
   "source": [
    "print(cursor)"
   ]
  },
  {
   "cell_type": "code",
   "execution_count": 6,
   "metadata": {},
   "outputs": [
    {
     "data": {
      "text/plain": [
       "<sqlite3.Cursor at 0x260afe5dd50>"
      ]
     },
     "execution_count": 6,
     "metadata": {},
     "output_type": "execute_result"
    }
   ],
   "source": [
    "cursor.execute('drop table if exists phone')"
   ]
  },
  {
   "cell_type": "code",
   "execution_count": 7,
   "metadata": {},
   "outputs": [],
   "source": [
    "conn.commit()"
   ]
  },
  {
   "cell_type": "code",
   "execution_count": 8,
   "metadata": {},
   "outputs": [
    {
     "data": {
      "text/plain": [
       "<sqlite3.Cursor at 0x260afe5dd50>"
      ]
     },
     "execution_count": 8,
     "metadata": {},
     "output_type": "execute_result"
    }
   ],
   "source": [
    "cursor.execute('''create table if not exists phone (\n",
    "      id integer primary key,\n",
    "      name text,\n",
    "      phone text)''')"
   ]
  },
  {
   "cell_type": "code",
   "execution_count": 9,
   "metadata": {},
   "outputs": [
    {
     "data": {
      "text/plain": [
       "<sqlite3.Cursor at 0x260afe5dd50>"
      ]
     },
     "execution_count": 9,
     "metadata": {},
     "output_type": "execute_result"
    }
   ],
   "source": [
    "cursor.execute('insert into phone (name, phone) values (\"윤소정\", \"010-1234-5678\")')"
   ]
  },
  {
   "cell_type": "code",
   "execution_count": 10,
   "metadata": {},
   "outputs": [],
   "source": [
    "conn.commit()"
   ]
  },
  {
   "cell_type": "code",
   "execution_count": 11,
   "metadata": {},
   "outputs": [],
   "source": [
    "import sqlite3\n",
    "import hashlib\n",
    "\n",
    "def registration() :\n",
    "    # memberDB  에  login 테이블이 없으면 생성\n",
    "    conn = sqlite3.connect('member.db')\n",
    "    cursor = conn.cursor()\n",
    "    cursor.execute('''create table if not exists login (\n",
    "      id integer primary key,\n",
    "      loginID text,\n",
    "      loginPW text)''')\n",
    "    \n",
    "    i_ID = input('ID : ')\n",
    "    i_PW = input('PW : ')\n",
    "    \n",
    "    sql = 'select * from login where loginID=?'\n",
    "    data = (i_ID,)\n",
    "    cursor.execute(sql, data)\n",
    "    res = cursor.fetchall()\n",
    "    \n",
    "    if res : \n",
    "        print('사용중인 아이디 입니다')\n",
    "    else :    \n",
    "        sql = 'INSERT INTO login (loginID, loginPW) VALUES ( ?, ? )'\n",
    "        hashed_pw = hashlib.sha256(i_PW.encode()).digest()   \n",
    "        data = (i_ID, hashed_pw)\n",
    "        cursor.execute(sql, data)\n",
    "        conn.commit()\n",
    "        print('회원가입이 완료되었습니다')\n",
    "        \n",
    "    conn.close()"
   ]
  },
  {
   "cell_type": "code",
   "execution_count": 12,
   "metadata": {},
   "outputs": [
    {
     "name": "stdout",
     "output_type": "stream",
     "text": [
      "ID : ffff\n",
      "PW : 1111\n",
      "회원가입이 완료되었습니다\n"
     ]
    }
   ],
   "source": [
    "registration()"
   ]
  },
  {
   "cell_type": "code",
   "execution_count": 13,
   "metadata": {},
   "outputs": [],
   "source": [
    "def change_pw() :\n",
    "    conn = sqlite3.connect('member.db')\n",
    "    cursor = conn.cursor()\n",
    "\n",
    "    i_ID = input('ID : ')\n",
    "    i_PW = input('PW : ')\n",
    "    \n",
    "    sql = 'update login set loginPW=? where loginID=?'\n",
    "    data = (i_PW, i_ID)\n",
    "    cursor.execute(sql, data)\n",
    "    conn.commit()"
   ]
  },
  {
   "cell_type": "code",
   "execution_count": 18,
   "metadata": {},
   "outputs": [],
   "source": [
    "def login() :\n",
    "    conn = sqlite3.connect('member.db')\n",
    "    cursor = conn.cursor()\n",
    "    \n",
    "    i_ID = input('ID : ')\n",
    "    i_PW = input('PW : ')\n",
    "    hashed_pw = hashlib.sha256(i_PW.encode()).digest()\n",
    "    \n",
    "    sql = 'select * from login where loginID=? and loginPW=?'\n",
    "    data = (i_ID, hashed_pw)\n",
    "    cursor.execute(sql, data)\n",
    "    \n",
    "    res = cursor.fetchone()\n",
    "    if res : \n",
    "        return True\n",
    "    else :\n",
    "        return False"
   ]
  },
  {
   "cell_type": "code",
   "execution_count": 19,
   "metadata": {},
   "outputs": [
    {
     "name": "stdout",
     "output_type": "stream",
     "text": [
      "ID : sjyoun\n",
      "PW : 1111\n",
      "1234\n"
     ]
    }
   ],
   "source": [
    "login()"
   ]
  },
  {
   "cell_type": "code",
   "execution_count": null,
   "metadata": {},
   "outputs": [],
   "source": []
  }
 ],
 "metadata": {
  "kernelspec": {
   "display_name": "Python 3",
   "language": "python",
   "name": "python3"
  },
  "language_info": {
   "codemirror_mode": {
    "name": "ipython",
    "version": 3
   },
   "file_extension": ".py",
   "mimetype": "text/x-python",
   "name": "python",
   "nbconvert_exporter": "python",
   "pygments_lexer": "ipython3",
   "version": "3.7.1"
  }
 },
 "nbformat": 4,
 "nbformat_minor": 2
}
